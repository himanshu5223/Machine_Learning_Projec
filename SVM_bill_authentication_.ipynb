{
 "cells": [
  {
   "cell_type": "code",
   "execution_count": 2,
   "metadata": {},
   "outputs": [],
   "source": [
    "import pandas as pd\n",
    "import numpy as np\n",
    "import matplotlib.pyplot as plt\n",
    "import seaborn as sns\n",
    "%matplotlib inline"
   ]
  },
  {
   "cell_type": "code",
   "execution_count": 3,
   "metadata": {},
   "outputs": [
    {
     "name": "stdout",
     "output_type": "stream",
     "text": [
      "      Variance  Skewness   Curtosis   Entropy  Class\n",
      "0     3.621600   8.66610  -2.807300 -0.446990      0\n",
      "1     4.545900   8.16740  -2.458600 -1.462100      0\n",
      "2     3.866000  -2.63830   1.924200  0.106450      0\n",
      "3     3.456600   9.52280  -4.011200 -3.594400      0\n",
      "4     0.329240  -4.45520   4.571800 -0.988800      0\n",
      "5     4.368400   9.67180  -3.960600 -3.162500      0\n",
      "6     3.591200   3.01290   0.728880  0.564210      0\n",
      "7     2.092200  -6.81000   8.463600 -0.602160      0\n",
      "8     3.203200   5.75880  -0.753450 -0.612510      0\n",
      "9     1.535600   9.17720  -2.271800 -0.735350      0\n",
      "10    1.224700   8.77790  -2.213500 -0.806470      0\n",
      "11    3.989900  -2.70660   2.394600  0.862910      0\n",
      "12    1.899300   7.66250   0.153940 -3.110800      0\n",
      "13   -1.576800  10.84300   2.546200 -2.936200      0\n",
      "14    3.404000   8.72610  -2.991500 -0.572420      0\n",
      "15    4.676500  -3.38950   3.489600  1.477100      0\n",
      "16    2.671900   3.06460   0.371580  0.586190      0\n",
      "17    0.803550   2.84730   4.343900  0.601700      0\n",
      "18    1.447900  -4.87940   8.342800 -2.108600      0\n",
      "19    5.242300  11.02720  -4.353000 -4.101300      0\n",
      "20    5.786700   7.89020  -2.619600 -0.487080      0\n",
      "21    0.329200  -4.45520   4.571800 -0.988800      0\n",
      "22    3.936200  10.16220  -3.823500 -4.017200      0\n",
      "23    0.935840   8.88550  -1.683100 -1.659900      0\n",
      "24    4.433800   9.88700  -4.679500 -3.748300      0\n",
      "25    0.705700  -5.49810   8.336800 -2.871500      0\n",
      "26    1.143200  -3.74130   5.577700 -0.635780      0\n",
      "27   -0.382140   8.39090   2.162400 -3.740500      0\n",
      "28    6.563300   9.81870  -4.411300 -3.225800      0\n",
      "29    4.890600  -3.35840   3.420200  1.090500      0\n",
      "...        ...       ...        ...       ...    ...\n",
      "1342 -1.747900  -5.82300   5.869900  1.212000      1\n",
      "1343 -0.959230  -6.71280   4.985700  0.328860      1\n",
      "1344  1.345100   0.23589  -1.878500  1.325800      1\n",
      "1345  2.227900   4.09510  -4.803700 -2.111200      1\n",
      "1346  1.257200   4.87310  -5.286100 -5.874100      1\n",
      "1347 -5.385700   9.12140  -0.419290 -5.918100      1\n",
      "1348 -2.978600   2.34450   0.526670 -0.401730      1\n",
      "1349 -1.585100  -2.15620   1.708200  0.901700      1\n",
      "1350 -0.218880  -2.20380  -0.095400  0.564210      1\n",
      "1351  1.318300   1.90170  -3.311100  0.065071      1\n",
      "1352  1.489600   3.42880  -4.030900 -1.425900      1\n",
      "1353  0.115920   3.22190  -3.430200 -2.845700      1\n",
      "1354 -3.392400   3.35640  -0.720040 -3.523300      1\n",
      "1355 -6.163200   8.70960  -0.216210 -3.634500      1\n",
      "1356 -4.078600   2.92390   0.870260 -0.653890      1\n",
      "1357 -2.589900  -0.39110   0.934520  0.429720      1\n",
      "1358 -1.011600  -0.19038  -0.905970  0.003003      1\n",
      "1359  0.066129   2.49140  -2.940100 -0.621560      1\n",
      "1360 -0.247450   1.93680  -2.469700 -0.805180      1\n",
      "1361 -1.573200   1.06360  -0.712320 -0.838800      1\n",
      "1362 -2.166800   1.59330   0.045122 -1.678000      1\n",
      "1363 -1.166700  -1.42370   2.924100  0.661190      1\n",
      "1364 -2.839100  -6.63000  10.484900 -0.421130      1\n",
      "1365 -4.504600  -5.81260  10.886700 -0.528460      1\n",
      "1366 -2.410000   3.74330  -0.402150 -1.295300      1\n",
      "1367  0.406140   1.34920  -1.450100 -0.559490      1\n",
      "1368 -1.388700  -4.87730   6.477400  0.341790      1\n",
      "1369 -3.750300 -13.45860  17.593200 -2.777100      1\n",
      "1370 -3.563700  -8.38270  12.393000 -1.282300      1\n",
      "1371 -2.541900  -0.65804   2.684200  1.195200      1\n",
      "\n",
      "[1372 rows x 5 columns]\n"
     ]
    }
   ],
   "source": [
    "dataset = pd.read_csv(\"/home/negi/M_L/m.r_negi_ML_self/SVM/bill_authentication.csv\")\n",
    "print(dataset)"
   ]
  },
  {
   "cell_type": "code",
   "execution_count": 4,
   "metadata": {},
   "outputs": [
    {
     "data": {
      "text/html": [
       "<div>\n",
       "<style scoped>\n",
       "    .dataframe tbody tr th:only-of-type {\n",
       "        vertical-align: middle;\n",
       "    }\n",
       "\n",
       "    .dataframe tbody tr th {\n",
       "        vertical-align: top;\n",
       "    }\n",
       "\n",
       "    .dataframe thead th {\n",
       "        text-align: right;\n",
       "    }\n",
       "</style>\n",
       "<table border=\"1\" class=\"dataframe\">\n",
       "  <thead>\n",
       "    <tr style=\"text-align: right;\">\n",
       "      <th></th>\n",
       "      <th>Variance</th>\n",
       "      <th>Skewness</th>\n",
       "      <th>Curtosis</th>\n",
       "      <th>Entropy</th>\n",
       "      <th>Class</th>\n",
       "    </tr>\n",
       "  </thead>\n",
       "  <tbody>\n",
       "    <tr>\n",
       "      <th>0</th>\n",
       "      <td>3.62160</td>\n",
       "      <td>8.6661</td>\n",
       "      <td>-2.8073</td>\n",
       "      <td>-0.44699</td>\n",
       "      <td>0</td>\n",
       "    </tr>\n",
       "    <tr>\n",
       "      <th>1</th>\n",
       "      <td>4.54590</td>\n",
       "      <td>8.1674</td>\n",
       "      <td>-2.4586</td>\n",
       "      <td>-1.46210</td>\n",
       "      <td>0</td>\n",
       "    </tr>\n",
       "    <tr>\n",
       "      <th>2</th>\n",
       "      <td>3.86600</td>\n",
       "      <td>-2.6383</td>\n",
       "      <td>1.9242</td>\n",
       "      <td>0.10645</td>\n",
       "      <td>0</td>\n",
       "    </tr>\n",
       "    <tr>\n",
       "      <th>3</th>\n",
       "      <td>3.45660</td>\n",
       "      <td>9.5228</td>\n",
       "      <td>-4.0112</td>\n",
       "      <td>-3.59440</td>\n",
       "      <td>0</td>\n",
       "    </tr>\n",
       "    <tr>\n",
       "      <th>4</th>\n",
       "      <td>0.32924</td>\n",
       "      <td>-4.4552</td>\n",
       "      <td>4.5718</td>\n",
       "      <td>-0.98880</td>\n",
       "      <td>0</td>\n",
       "    </tr>\n",
       "  </tbody>\n",
       "</table>\n",
       "</div>"
      ],
      "text/plain": [
       "   Variance  Skewness  Curtosis  Entropy  Class\n",
       "0   3.62160    8.6661   -2.8073 -0.44699      0\n",
       "1   4.54590    8.1674   -2.4586 -1.46210      0\n",
       "2   3.86600   -2.6383    1.9242  0.10645      0\n",
       "3   3.45660    9.5228   -4.0112 -3.59440      0\n",
       "4   0.32924   -4.4552    4.5718 -0.98880      0"
      ]
     },
     "execution_count": 4,
     "metadata": {},
     "output_type": "execute_result"
    }
   ],
   "source": [
    "dataset.head()"
   ]
  },
  {
   "cell_type": "code",
   "execution_count": 5,
   "metadata": {},
   "outputs": [
    {
     "data": {
      "text/plain": [
       "(1372, 5)"
      ]
     },
     "execution_count": 5,
     "metadata": {},
     "output_type": "execute_result"
    }
   ],
   "source": [
    "dataset.shape"
   ]
  },
  {
   "cell_type": "code",
   "execution_count": 6,
   "metadata": {},
   "outputs": [
    {
     "data": {
      "text/plain": [
       "6860"
      ]
     },
     "execution_count": 6,
     "metadata": {},
     "output_type": "execute_result"
    }
   ],
   "source": [
    "dataset.size"
   ]
  },
  {
   "cell_type": "code",
   "execution_count": 7,
   "metadata": {},
   "outputs": [
    {
     "data": {
      "text/html": [
       "<div>\n",
       "<style scoped>\n",
       "    .dataframe tbody tr th:only-of-type {\n",
       "        vertical-align: middle;\n",
       "    }\n",
       "\n",
       "    .dataframe tbody tr th {\n",
       "        vertical-align: top;\n",
       "    }\n",
       "\n",
       "    .dataframe thead th {\n",
       "        text-align: right;\n",
       "    }\n",
       "</style>\n",
       "<table border=\"1\" class=\"dataframe\">\n",
       "  <thead>\n",
       "    <tr style=\"text-align: right;\">\n",
       "      <th></th>\n",
       "      <th>Variance</th>\n",
       "      <th>Skewness</th>\n",
       "      <th>Curtosis</th>\n",
       "      <th>Entropy</th>\n",
       "      <th>Class</th>\n",
       "    </tr>\n",
       "  </thead>\n",
       "  <tbody>\n",
       "    <tr>\n",
       "      <th>count</th>\n",
       "      <td>1372.000000</td>\n",
       "      <td>1372.000000</td>\n",
       "      <td>1372.000000</td>\n",
       "      <td>1372.000000</td>\n",
       "      <td>1372.000000</td>\n",
       "    </tr>\n",
       "    <tr>\n",
       "      <th>mean</th>\n",
       "      <td>0.433735</td>\n",
       "      <td>1.922353</td>\n",
       "      <td>1.397627</td>\n",
       "      <td>-1.191657</td>\n",
       "      <td>0.444606</td>\n",
       "    </tr>\n",
       "    <tr>\n",
       "      <th>std</th>\n",
       "      <td>2.842763</td>\n",
       "      <td>5.869047</td>\n",
       "      <td>4.310030</td>\n",
       "      <td>2.101013</td>\n",
       "      <td>0.497103</td>\n",
       "    </tr>\n",
       "    <tr>\n",
       "      <th>min</th>\n",
       "      <td>-7.042100</td>\n",
       "      <td>-13.773100</td>\n",
       "      <td>-5.286100</td>\n",
       "      <td>-8.548200</td>\n",
       "      <td>0.000000</td>\n",
       "    </tr>\n",
       "    <tr>\n",
       "      <th>25%</th>\n",
       "      <td>-1.773000</td>\n",
       "      <td>-1.708200</td>\n",
       "      <td>-1.574975</td>\n",
       "      <td>-2.413450</td>\n",
       "      <td>0.000000</td>\n",
       "    </tr>\n",
       "    <tr>\n",
       "      <th>50%</th>\n",
       "      <td>0.496180</td>\n",
       "      <td>2.319650</td>\n",
       "      <td>0.616630</td>\n",
       "      <td>-0.586650</td>\n",
       "      <td>0.000000</td>\n",
       "    </tr>\n",
       "    <tr>\n",
       "      <th>75%</th>\n",
       "      <td>2.821475</td>\n",
       "      <td>6.814625</td>\n",
       "      <td>3.179250</td>\n",
       "      <td>0.394810</td>\n",
       "      <td>1.000000</td>\n",
       "    </tr>\n",
       "    <tr>\n",
       "      <th>max</th>\n",
       "      <td>6.824800</td>\n",
       "      <td>12.951600</td>\n",
       "      <td>17.927400</td>\n",
       "      <td>2.449500</td>\n",
       "      <td>1.000000</td>\n",
       "    </tr>\n",
       "  </tbody>\n",
       "</table>\n",
       "</div>"
      ],
      "text/plain": [
       "          Variance     Skewness     Curtosis      Entropy        Class\n",
       "count  1372.000000  1372.000000  1372.000000  1372.000000  1372.000000\n",
       "mean      0.433735     1.922353     1.397627    -1.191657     0.444606\n",
       "std       2.842763     5.869047     4.310030     2.101013     0.497103\n",
       "min      -7.042100   -13.773100    -5.286100    -8.548200     0.000000\n",
       "25%      -1.773000    -1.708200    -1.574975    -2.413450     0.000000\n",
       "50%       0.496180     2.319650     0.616630    -0.586650     0.000000\n",
       "75%       2.821475     6.814625     3.179250     0.394810     1.000000\n",
       "max       6.824800    12.951600    17.927400     2.449500     1.000000"
      ]
     },
     "execution_count": 7,
     "metadata": {},
     "output_type": "execute_result"
    }
   ],
   "source": [
    "dataset.describe()"
   ]
  },
  {
   "cell_type": "code",
   "execution_count": 8,
   "metadata": {},
   "outputs": [
    {
     "data": {
      "text/html": [
       "<div>\n",
       "<style scoped>\n",
       "    .dataframe tbody tr th:only-of-type {\n",
       "        vertical-align: middle;\n",
       "    }\n",
       "\n",
       "    .dataframe tbody tr th {\n",
       "        vertical-align: top;\n",
       "    }\n",
       "\n",
       "    .dataframe thead th {\n",
       "        text-align: right;\n",
       "    }\n",
       "</style>\n",
       "<table border=\"1\" class=\"dataframe\">\n",
       "  <thead>\n",
       "    <tr style=\"text-align: right;\">\n",
       "      <th></th>\n",
       "      <th>Variance</th>\n",
       "      <th>Skewness</th>\n",
       "      <th>Curtosis</th>\n",
       "      <th>Entropy</th>\n",
       "    </tr>\n",
       "    <tr>\n",
       "      <th>Class</th>\n",
       "      <th></th>\n",
       "      <th></th>\n",
       "      <th></th>\n",
       "      <th></th>\n",
       "    </tr>\n",
       "  </thead>\n",
       "  <tbody>\n",
       "    <tr>\n",
       "      <th>0</th>\n",
       "      <td>2.276686</td>\n",
       "      <td>4.256627</td>\n",
       "      <td>0.796718</td>\n",
       "      <td>-1.147640</td>\n",
       "    </tr>\n",
       "    <tr>\n",
       "      <th>1</th>\n",
       "      <td>-1.868443</td>\n",
       "      <td>-0.993576</td>\n",
       "      <td>2.148271</td>\n",
       "      <td>-1.246641</td>\n",
       "    </tr>\n",
       "  </tbody>\n",
       "</table>\n",
       "</div>"
      ],
      "text/plain": [
       "       Variance  Skewness  Curtosis   Entropy\n",
       "Class                                        \n",
       "0      2.276686  4.256627  0.796718 -1.147640\n",
       "1     -1.868443 -0.993576  2.148271 -1.246641"
      ]
     },
     "execution_count": 8,
     "metadata": {},
     "output_type": "execute_result"
    }
   ],
   "source": [
    "dataset.groupby('Class').mean()"
   ]
  },
  {
   "cell_type": "code",
   "execution_count": 13,
   "metadata": {},
   "outputs": [
    {
     "data": {
      "text/plain": [
       "<seaborn.axisgrid.JointGrid at 0x7fdb34b03d68>"
      ]
     },
     "execution_count": 13,
     "metadata": {},
     "output_type": "execute_result"
    },
    {
     "data": {
      "image/png": "[encoded data removed]",
      "text/plain": [
       "<Figure size 432x432 with 3 Axes>"
      ]
     },
     "metadata": {
      "needs_background": "light"
     },
     "output_type": "display_data"
    }
   ],
   "source": [
    "sns.jointplot(x='Curtosis',y='Skewness',data=dataset,kind='scatter')"
   ]
  },
  {
   "cell_type": "code",
   "execution_count": 14,
   "metadata": {},
   "outputs": [
    {
     "data": {
      "text/plain": [
       "<seaborn.axisgrid.JointGrid at 0x7fdb34a39358>"
      ]
     },
     "execution_count": 14,
     "metadata": {},
     "output_type": "execute_result"
    },
    {
     "data": {
      "image/png": "[encoded data removed]",
      "text/plain": [
       "<Figure size 432x432 with 3 Axes>"
      ]
     },
     "metadata": {
      "needs_background": "light"
     },
     "output_type": "display_data"
    }
   ],
   "source": [
    "sns.jointplot(x='Curtosis',y='Entropy',data=dataset,kind='scatter')"
   ]
  },
  {
   "cell_type": "code",
   "execution_count": 16,
   "metadata": {},
   "outputs": [
    {
     "data": {
      "text/plain": [
       "<matplotlib.axes._subplots.AxesSubplot at 0x7fdb348a5780>"
      ]
     },
     "execution_count": 16,
     "metadata": {},
     "output_type": "execute_result"
    },
    {
     "data": {
      "image/png": "[encoded data removed]",
      "text/plain": [
       "<Figure size 432x288 with 1 Axes>"
      ]
     },
     "metadata": {
      "needs_background": "light"
     },
     "output_type": "display_data"
    }
   ],
   "source": [
    "sns.distplot(dataset['Class'])"
   ]
  },
  {
   "cell_type": "code",
   "execution_count": 13,
   "metadata": {},
   "outputs": [
    {
     "name": "stdout",
     "output_type": "stream",
     "text": [
      "      Variance  Skewness   Curtosis   Entropy\n",
      "0     3.621600   8.66610  -2.807300 -0.446990\n",
      "1     4.545900   8.16740  -2.458600 -1.462100\n",
      "2     3.866000  -2.63830   1.924200  0.106450\n",
      "3     3.456600   9.52280  -4.011200 -3.594400\n",
      "4     0.329240  -4.45520   4.571800 -0.988800\n",
      "5     4.368400   9.67180  -3.960600 -3.162500\n",
      "6     3.591200   3.01290   0.728880  0.564210\n",
      "7     2.092200  -6.81000   8.463600 -0.602160\n",
      "8     3.203200   5.75880  -0.753450 -0.612510\n",
      "9     1.535600   9.17720  -2.271800 -0.735350\n",
      "10    1.224700   8.77790  -2.213500 -0.806470\n",
      "11    3.989900  -2.70660   2.394600  0.862910\n",
      "12    1.899300   7.66250   0.153940 -3.110800\n",
      "13   -1.576800  10.84300   2.546200 -2.936200\n",
      "14    3.404000   8.72610  -2.991500 -0.572420\n",
      "15    4.676500  -3.38950   3.489600  1.477100\n",
      "16    2.671900   3.06460   0.371580  0.586190\n",
      "17    0.803550   2.84730   4.343900  0.601700\n",
      "18    1.447900  -4.87940   8.342800 -2.108600\n",
      "19    5.242300  11.02720  -4.353000 -4.101300\n",
      "20    5.786700   7.89020  -2.619600 -0.487080\n",
      "21    0.329200  -4.45520   4.571800 -0.988800\n",
      "22    3.936200  10.16220  -3.823500 -4.017200\n",
      "23    0.935840   8.88550  -1.683100 -1.659900\n",
      "24    4.433800   9.88700  -4.679500 -3.748300\n",
      "25    0.705700  -5.49810   8.336800 -2.871500\n",
      "26    1.143200  -3.74130   5.577700 -0.635780\n",
      "27   -0.382140   8.39090   2.162400 -3.740500\n",
      "28    6.563300   9.81870  -4.411300 -3.225800\n",
      "29    4.890600  -3.35840   3.420200  1.090500\n",
      "...        ...       ...        ...       ...\n",
      "1342 -1.747900  -5.82300   5.869900  1.212000\n",
      "1343 -0.959230  -6.71280   4.985700  0.328860\n",
      "1344  1.345100   0.23589  -1.878500  1.325800\n",
      "1345  2.227900   4.09510  -4.803700 -2.111200\n",
      "1346  1.257200   4.87310  -5.286100 -5.874100\n",
      "1347 -5.385700   9.12140  -0.419290 -5.918100\n",
      "1348 -2.978600   2.34450   0.526670 -0.401730\n",
      "1349 -1.585100  -2.15620   1.708200  0.901700\n",
      "1350 -0.218880  -2.20380  -0.095400  0.564210\n",
      "1351  1.318300   1.90170  -3.311100  0.065071\n",
      "1352  1.489600   3.42880  -4.030900 -1.425900\n",
      "1353  0.115920   3.22190  -3.430200 -2.845700\n",
      "1354 -3.392400   3.35640  -0.720040 -3.523300\n",
      "1355 -6.163200   8.70960  -0.216210 -3.634500\n",
      "1356 -4.078600   2.92390   0.870260 -0.653890\n",
      "1357 -2.589900  -0.39110   0.934520  0.429720\n",
      "1358 -1.011600  -0.19038  -0.905970  0.003003\n",
      "1359  0.066129   2.49140  -2.940100 -0.621560\n",
      "1360 -0.247450   1.93680  -2.469700 -0.805180\n",
      "1361 -1.573200   1.06360  -0.712320 -0.838800\n",
      "1362 -2.166800   1.59330   0.045122 -1.678000\n",
      "1363 -1.166700  -1.42370   2.924100  0.661190\n",
      "1364 -2.839100  -6.63000  10.484900 -0.421130\n",
      "1365 -4.504600  -5.81260  10.886700 -0.528460\n",
      "1366 -2.410000   3.74330  -0.402150 -1.295300\n",
      "1367  0.406140   1.34920  -1.450100 -0.559490\n",
      "1368 -1.388700  -4.87730   6.477400  0.341790\n",
      "1369 -3.750300 -13.45860  17.593200 -2.777100\n",
      "1370 -3.563700  -8.38270  12.393000 -1.282300\n",
      "1371 -2.541900  -0.65804   2.684200  1.195200\n",
      "\n",
      "[1372 rows x 4 columns]\n"
     ]
    }
   ],
   "source": [
    "X = dataset.drop('Class',axis=1)\n",
    "print(X)"
   ]
  },
  {
   "cell_type": "code",
   "execution_count": 14,
   "metadata": {},
   "outputs": [],
   "source": [
    "y = dataset['Class']"
   ]
  },
  {
   "cell_type": "code",
   "execution_count": 15,
   "metadata": {},
   "outputs": [
    {
     "name": "stdout",
     "output_type": "stream",
     "text": [
      "0       0\n",
      "1       0\n",
      "2       0\n",
      "3       0\n",
      "4       0\n",
      "5       0\n",
      "6       0\n",
      "7       0\n",
      "8       0\n",
      "9       0\n",
      "10      0\n",
      "11      0\n",
      "12      0\n",
      "13      0\n",
      "14      0\n",
      "15      0\n",
      "16      0\n",
      "17      0\n",
      "18      0\n",
      "19      0\n",
      "20      0\n",
      "21      0\n",
      "22      0\n",
      "23      0\n",
      "24      0\n",
      "25      0\n",
      "26      0\n",
      "27      0\n",
      "28      0\n",
      "29      0\n",
      "       ..\n",
      "1342    1\n",
      "1343    1\n",
      "1344    1\n",
      "1345    1\n",
      "1346    1\n",
      "1347    1\n",
      "1348    1\n",
      "1349    1\n",
      "1350    1\n",
      "1351    1\n",
      "1352    1\n",
      "1353    1\n",
      "1354    1\n",
      "1355    1\n",
      "1356    1\n",
      "1357    1\n",
      "1358    1\n",
      "1359    1\n",
      "1360    1\n",
      "1361    1\n",
      "1362    1\n",
      "1363    1\n",
      "1364    1\n",
      "1365    1\n",
      "1366    1\n",
      "1367    1\n",
      "1368    1\n",
      "1369    1\n",
      "1370    1\n",
      "1371    1\n",
      "Name: Class, Length: 1372, dtype: int64\n"
     ]
    }
   ],
   "source": [
    "print(y)"
   ]
  },
  {
   "cell_type": "code",
   "execution_count": 16,
   "metadata": {},
   "outputs": [],
   "source": [
    "from sklearn.model_selection import train_test_split"
   ]
  },
  {
   "cell_type": "code",
   "execution_count": 17,
   "metadata": {},
   "outputs": [],
   "source": [
    "X_train, X_test, y_train, y_test = train_test_split(X, y, test_size = 0.20)  \n"
   ]
  },
  {
   "cell_type": "code",
   "execution_count": 18,
   "metadata": {},
   "outputs": [
    {
     "data": {
      "text/plain": [
       "SVC(C=1.0, cache_size=200, class_weight=None, coef0=0.0,\n",
       "  decision_function_shape='ovr', degree=3, gamma='auto_deprecated',\n",
       "  kernel='linear', max_iter=-1, probability=False, random_state=None,\n",
       "  shrinking=True, tol=0.001, verbose=False)"
      ]
     },
     "execution_count": 18,
     "metadata": {},
     "output_type": "execute_result"
    }
   ],
   "source": [
    "from sklearn.svm import SVC  \n",
    "\n",
    "svclassifier = SVC(kernel='linear')  \n",
    "svclassifier.fit(X_train, y_train) "
   ]
  },
  {
   "cell_type": "code",
   "execution_count": 19,
   "metadata": {},
   "outputs": [],
   "source": [
    "y_pred = svclassifier.predict(X_test)  "
   ]
  },
  {
   "cell_type": "code",
   "execution_count": 20,
   "metadata": {},
   "outputs": [
    {
     "name": "stdout",
     "output_type": "stream",
     "text": [
      "[1 0 0 1 1 0 1 0 1 0 1 1 0 0 1 0 0 0 0 1 0 1 0 0 1 1 0 0 1 1 1 0 1 0 1 0 1\n",
      " 0 0 0 0 0 1 0 0 0 0 1 0 0 1 0 0 0 0 1 1 1 0 0 0 1 0 1 0 1 0 0 0 0 1 0 1 1\n",
      " 0 0 1 0 1 1 1 1 0 1 1 0 0 1 1 0 1 0 1 0 0 1 0 1 0 0 0 0 1 1 1 0 0 0 1 0 1\n",
      " 1 0 0 0 1 1 1 1 0 1 0 0 0 0 0 1 0 0 0 1 1 0 1 1 0 0 0 1 0 0 0 0 0 0 0 0 0\n",
      " 0 1 1 1 1 1 1 1 1 1 0 1 1 0 0 1 1 1 1 0 0 0 0 0 0 0 0 1 1 1 1 1 1 0 0 0 1\n",
      " 0 1 0 0 0 1 0 0 1 0 0 0 1 0 0 1 0 0 0 1 0 0 0 0 1 0 0 0 0 1 1 0 0 0 1 0 0\n",
      " 1 1 1 1 0 0 1 0 1 0 0 1 1 0 0 0 1 1 1 0 0 0 1 0 1 1 0 0 1 1 0 0 1 0 0 1 1\n",
      " 1 0 0 0 1 1 0 1 0 1 1 1 0 1 1 0]\n"
     ]
    }
   ],
   "source": [
    "print(y_pred)"
   ]
  },
  {
   "cell_type": "code",
   "execution_count": 21,
   "metadata": {},
   "outputs": [
    {
     "name": "stdout",
     "output_type": "stream",
     "text": [
      "[[154   1]\n",
      " [  1 119]]\n",
      "              precision    recall  f1-score   support\n",
      "\n",
      "           0       0.99      0.99      0.99       155\n",
      "           1       0.99      0.99      0.99       120\n",
      "\n",
      "   micro avg       0.99      0.99      0.99       275\n",
      "   macro avg       0.99      0.99      0.99       275\n",
      "weighted avg       0.99      0.99      0.99       275\n",
      "\n"
     ]
    }
   ],
   "source": [
    "from sklearn.metrics import classification_report, confusion_matrix  \n",
    "print(confusion_matrix(y_test,y_pred))  \n",
    "print(classification_report(y_test,y_pred))  "
   ]
  }
 ],
 "metadata": {
  "kernelspec": {
   "display_name": "Python 3",
   "language": "python",
   "name": "python3"
  },
  "language_info": {
   "codemirror_mode": {
    "name": "ipython",
    "version": 3
   },
   "file_extension": ".py",
   "mimetype": "text/x-python",
   "name": "python",
   "nbconvert_exporter": "python",
   "pygments_lexer": "ipython3",
   "version": "3.5.2"
  }
 },
 "nbformat": 4,
 "nbformat_minor": 2
}
